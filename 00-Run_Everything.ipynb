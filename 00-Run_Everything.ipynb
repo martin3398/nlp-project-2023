{
 "cells": [
  {
   "cell_type": "markdown",
   "source": [
    "## Run the whole pipeline"
   ],
   "metadata": {
    "collapsed": false
   },
   "id": "8cade44e4235abaf"
  },
  {
   "cell_type": "code",
   "execution_count": 13,
   "id": "initial_id",
   "metadata": {
    "collapsed": true,
    "ExecuteTime": {
     "end_time": "2023-12-08T02:41:49.766096Z",
     "start_time": "2023-12-08T02:41:49.728109Z"
    }
   },
   "outputs": [],
   "source": [
    "import string\n",
    "import subprocess\n",
    "import threading\n",
    "import os\n",
    "from pathlib import Path\n",
    "import random\n",
    "\n",
    "from shared import DATADIR, MODELDIR, dataset_path"
   ]
  },
  {
   "cell_type": "code",
   "execution_count": 14,
   "outputs": [],
   "source": [
    "def save_results(notebook_name):\n",
    "    copy_data_command = f\"cp -r {DATADIR} {persistent_location / id }/\"\n",
    "    copy_model_command = f\"cp -r {MODELDIR} {persistent_location / id }/\"\n",
    "    copy_notebook_command = f\"cp {notebook_name} {persistent_location / id}/\"\n",
    "    \n",
    "    try: \n",
    "        subprocess.run(copy_data_command, shell=True, check=True)\n",
    "        if os.path.exists(MODELDIR):\n",
    "            subprocess.run(copy_model_command, shell=True, check=True)\n",
    "        subprocess.run(copy_notebook_command, shell=True, check=True)\n",
    "    except subprocess.CalledProcessError as e:\n",
    "        print(e.output)\n",
    "        raise e\n",
    "    if use_drive:\n",
    "        drive.flush_and_unmount()\n",
    "        drive.mount('/content/drive', force_remount=True)"
   ],
   "metadata": {
    "collapsed": false,
    "ExecuteTime": {
     "end_time": "2023-12-08T02:41:49.771922Z",
     "start_time": "2023-12-08T02:41:49.731535Z"
    }
   },
   "id": "4be23cc6de8f5c1f"
  },
  {
   "cell_type": "code",
   "execution_count": 15,
   "outputs": [],
   "source": [
    "def run_notebook(path):\n",
    "    command = f\"jupyter nbconvert --to notebook --execute --inplace {path} --log-level WARN\"\n",
    "    try: \n",
    "        subprocess.run(command, shell=True, check=True)\n",
    "    except subprocess.CalledProcessError as e:\n",
    "        print(e.output)\n",
    "        print(\"Error running notebook, exit code:\", e.returncode)\n",
    "        if e.stdout:\n",
    "            print(\"Standard Output:\")\n",
    "            print(e.stdout.decode())\n",
    "        if e.stderr:\n",
    "            print(\"Standard Error:\")\n",
    "            print(e.stderr.decode())\n",
    "        save_results(path)\n",
    "        raise e"
   ],
   "metadata": {
    "collapsed": false,
    "ExecuteTime": {
     "end_time": "2023-12-08T02:41:49.776057Z",
     "start_time": "2023-12-08T02:41:49.740066Z"
    }
   },
   "id": "32fa9d37426643b7"
  },
  {
   "cell_type": "markdown",
   "source": [
    "Clone rest of the repo if in colab"
   ],
   "metadata": {
    "collapsed": false
   },
   "id": "39dabe928ecf2be1"
  },
  {
   "cell_type": "code",
   "execution_count": 16,
   "outputs": [],
   "source": [
    "if 'COLAB_GPU' in os.environ:\n",
    "    !git clone https://github.com/martin3398/nlp-project-2023.git\n",
    "    %mv nlp-project-2023/* ./\n",
    "    %rm -rf nlp-project-2023/\n",
    "    "
   ],
   "metadata": {
    "collapsed": false,
    "ExecuteTime": {
     "end_time": "2023-12-08T02:41:49.792827Z",
     "start_time": "2023-12-08T02:41:49.744690Z"
    }
   },
   "id": "47f8bfd76b962102"
  },
  {
   "cell_type": "markdown",
   "source": [
    "When in colab, safe results to drive"
   ],
   "metadata": {
    "collapsed": false
   },
   "id": "73c073d2fda11e29"
  },
  {
   "cell_type": "code",
   "execution_count": 18,
   "outputs": [
    {
     "name": "stdout",
     "output_type": "stream",
     "text": [
      "run id: JSLX\n"
     ]
    }
   ],
   "source": [
    "if 'COLAB_GPU' in os.environ:\n",
    "    # noinspection PyUnresolvedReferences\n",
    "    from google.colab import drive\n",
    "    use_drive = True\n",
    "    drive.mount('/content/drive')\n",
    "    persistent_location = Path(\"/content/drive/MyDrive/NLP-Project/runs/\")\n",
    "    if not os.path.exists(dataset_path):\n",
    "        copy_dataset_command = f\"cp /content/drive/MyDrive/NLP-Project/WELFake_Dataset.csv {dataset_path}\"\n",
    "        subprocess.run(copy_dataset_command, shell=True, check=True)\n",
    "else:\n",
    "    use_drive = False\n",
    "    persistent_location = Path(\"./runs/\")\n",
    "\n",
    "id = ''.join(random.choices(string.ascii_uppercase, k=4))\n",
    "while True:\n",
    "    if not os.path.exists(persistent_location / id):\n",
    "        print('run id:', id)\n",
    "        os.makedirs(persistent_location / id)\n",
    "        break"
   ],
   "metadata": {
    "collapsed": false,
    "ExecuteTime": {
     "end_time": "2023-12-08T02:41:49.794052Z",
     "start_time": "2023-12-08T02:41:49.753673Z"
    }
   },
   "id": "d279147ccc58c199"
  },
  {
   "cell_type": "markdown",
   "source": [
    "Split dataset"
   ],
   "metadata": {
    "collapsed": false
   },
   "id": "bd814d0d2dc799f2"
  },
  {
   "cell_type": "code",
   "execution_count": 19,
   "outputs": [],
   "source": [
    "run_notebook(\"01-Clean_and_Split.ipynb\")\n",
    "save_results(\"01-Clean_and_Split.ipynb\")"
   ],
   "metadata": {
    "collapsed": false,
    "ExecuteTime": {
     "end_time": "2023-12-08T02:41:57.178013Z",
     "start_time": "2023-12-08T02:41:49.755901Z"
    }
   },
   "id": "59a60b47158c549e"
  },
  {
   "cell_type": "markdown",
   "source": [
    "Start style transfer (can run in the background before the evaluation step)"
   ],
   "metadata": {
    "collapsed": false
   },
   "id": "bd0d257a2f6c1326"
  },
  {
   "cell_type": "code",
   "execution_count": 20,
   "outputs": [],
   "source": [
    "fakenews_style_transfer_thread = threading.Thread(target=run_notebook, args=(\"02a-Styletransfer_fakenews.ipynb\",))\n",
    "realnews_style_transfer_thread = threading.Thread(target=run_notebook, args=(\"02b-Styletransfer_realnews.ipynb\",))\n",
    "fakenews_style_transfer_thread.start()\n",
    "realnews_style_transfer_thread.start()"
   ],
   "metadata": {
    "collapsed": false,
    "ExecuteTime": {
     "end_time": "2023-12-08T02:41:57.185503Z",
     "start_time": "2023-12-08T02:41:57.183810Z"
    }
   },
   "id": "cdcd78181f0e6b6e"
  },
  {
   "cell_type": "markdown",
   "source": [
    "Tokenize"
   ],
   "metadata": {
    "collapsed": false
   },
   "id": "815149aab8142de8"
  },
  {
   "cell_type": "code",
   "execution_count": 21,
   "outputs": [],
   "source": [
    "run_notebook(\"02b-Tokenize_Original.ipynb\")\n",
    "save_results(\"02b-Tokenize_Original.ipynb\")"
   ],
   "metadata": {
    "collapsed": false,
    "ExecuteTime": {
     "end_time": "2023-12-08T02:48:12.215058Z",
     "start_time": "2023-12-08T02:41:57.192783Z"
    }
   },
   "id": "79ba89cb56452b76"
  },
  {
   "cell_type": "markdown",
   "source": [
    "Train"
   ],
   "metadata": {
    "collapsed": false
   },
   "id": "c86460e4884757f"
  },
  {
   "cell_type": "code",
   "execution_count": null,
   "outputs": [],
   "source": [
    "run_notebook(\"03_Train.ipynb\")"
   ],
   "metadata": {
    "collapsed": false,
    "is_executing": true,
    "ExecuteTime": {
     "start_time": "2023-12-08T07:56:05.537900Z"
    }
   },
   "id": "edd0e08eb22420d0"
  },
  {
   "cell_type": "markdown",
   "source": [
    "Evaluate"
   ],
   "metadata": {
    "collapsed": false
   },
   "id": "1ad27a4ab6209c4d"
  },
  {
   "cell_type": "code",
   "execution_count": 23,
   "outputs": [],
   "source": [
    "# Wait for style transfer\n",
    "if fakenews_style_transfer_thread.is_alive():\n",
    "    fakenews_style_transfer_thread.join()\n",
    "    save_results(\"02a-Styletransfer_fakenews.ipynb\")\n",
    "\n",
    "if realnews_style_transfer_thread.is_alive():\n",
    "    realnews_style_transfer_thread.join()\n",
    "    save_results(\"02b-Styletransfer_realnews.ipynb\")"
   ],
   "metadata": {
    "collapsed": false,
    "ExecuteTime": {
     "end_time": "2023-12-08T06:57:34.058521Z",
     "start_time": "2023-12-08T06:57:34.057568Z"
    }
   },
   "id": "108c923497c34a96"
  },
  {
   "cell_type": "code",
   "execution_count": 24,
   "outputs": [],
   "source": [
    "# Evaluate\n",
    "run_notebook(\"04_Evaluate.ipynb\")\n",
    "save_results(\"04_Evaluate.ipynb\")"
   ],
   "metadata": {
    "collapsed": false,
    "ExecuteTime": {
     "end_time": "2023-12-08T06:59:06.223611Z",
     "start_time": "2023-12-08T06:57:34.059388Z"
    }
   },
   "id": "47e69430324bada0"
  }
 ],
 "metadata": {
  "kernelspec": {
   "display_name": "Python 3",
   "language": "python",
   "name": "python3"
  },
  "language_info": {
   "codemirror_mode": {
    "name": "ipython",
    "version": 2
   },
   "file_extension": ".py",
   "mimetype": "text/x-python",
   "name": "python",
   "nbconvert_exporter": "python",
   "pygments_lexer": "ipython2",
   "version": "2.7.6"
  }
 },
 "nbformat": 4,
 "nbformat_minor": 5
}
